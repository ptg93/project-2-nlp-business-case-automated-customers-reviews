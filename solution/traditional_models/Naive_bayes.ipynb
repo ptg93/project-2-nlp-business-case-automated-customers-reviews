{
 "cells": [
  {
   "cell_type": "code",
   "execution_count": null,
   "metadata": {},
   "outputs": [],
   "source": [
    "#assume: tokenization, lemmatization, vectorization are in place\n",
    "\n",
    "#assume: train, test set available\n",
    "# train = df['reviews.rating']\n",
    "# test = df['reviews.rating']"
   ]
  },
  {
   "cell_type": "code",
   "execution_count": null,
   "metadata": {},
   "outputs": [],
   "source": [
    "from sklearn.naive_bayes import MultinomialNB\n",
    "from sklearn.pipeline import make_pipeline\n",
    "\n",
    "# Set the variable for the algo TO-DO: check what makes sense, naive or model variable\n",
    "# naive=MultinomialNB()\n",
    "\n",
    "# Creating model based on Multinomial Naive Bayes\n",
    "model = make_pipeline (TfidVectorizer(), MultinomialNB)\n",
    "\n",
    "# Training the model with the train data\n",
    "model.fit(traindataset, train['reviews.rating'])\n",
    "\n",
    "\n"
   ]
  },
  {
   "cell_type": "code",
   "execution_count": null,
   "metadata": {},
   "outputs": [],
   "source": [
    "# Creating labels for the test data\n",
    "labels = model.predict(test.data)"
   ]
  },
  {
   "cell_type": "code",
   "execution_count": null,
   "metadata": {},
   "outputs": [],
   "source": [
    "# Predict for the Test Dataset\n",
    "test_transform= []\n",
    "for row in range(0,len(test.index)):\n",
    "    test_transform.append(' '.join(str(x) for x in test.iloc[row,2:27]))\n",
    "test_dataset = tfidfvector.transform(test_transform)\n",
    "predictions = naive.predict(test_dataset)"
   ]
  },
  {
   "cell_type": "code",
   "execution_count": null,
   "metadata": {},
   "outputs": [],
   "source": [
    "# Evaluation\n",
    "matrix=confusion_matrix(test['reviews.rating'],predictions)\n",
    "print(matrix)\n",
    "score=accuracy_score(test['reviews.rating'],predictions)\n",
    "print(score)\n",
    "report=classification_report(test['reviews.rating'],predictions)\n",
    "print(report)"
   ]
  }
 ],
 "metadata": {
  "language_info": {
   "name": "python"
  }
 },
 "nbformat": 4,
 "nbformat_minor": 2
}
